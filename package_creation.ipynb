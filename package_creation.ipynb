{
 "cells": [
  {
   "cell_type": "code",
   "execution_count": 1,
   "id": "7a9cc64a-44f9-4f05-b9e7-455c21ab1c06",
   "metadata": {},
   "outputs": [
    {
     "name": "stdout",
     "output_type": "stream",
     "text": [
      "C:\\Users\\vraja\\1.Python2\\Imarticus\\Fahed\\ML_Package_Demo\n"
     ]
    }
   ],
   "source": [
    "import os\n",
    "print(os.getcwd()) \n",
    "os.makedirs('ml_packages', exist_ok=True)"
   ]
  },
  {
   "cell_type": "code",
   "execution_count": 3,
   "id": "580a84a3-010b-4750-8465-13586f5ad875",
   "metadata": {},
   "outputs": [],
   "source": [
    "with open('ml_packages/__init__.py', 'w') as f:\n",
    "    pass  # create the file without content"
   ]
  },
  {
   "cell_type": "code",
   "execution_count": 5,
   "id": "550c640a-3ca8-4dc0-9838-70657984803d",
   "metadata": {},
   "outputs": [],
   "source": [
    "with open('ml_packages/build_model.py', 'w') as f:\n",
    "    pass  # create the file without content"
   ]
  },
  {
   "cell_type": "code",
   "execution_count": 7,
   "id": "2d327fd9-5db3-4010-be88-ec741e64d6f9",
   "metadata": {},
   "outputs": [],
   "source": [
    "with open('ml_packages/data_preprocessing.py', 'w') as f:\n",
    "    pass  # create the file without content"
   ]
  },
  {
   "cell_type": "code",
   "execution_count": 11,
   "id": "c5ec8261-7ebc-4cd1-951a-650d45018566",
   "metadata": {},
   "outputs": [],
   "source": [
    "with open('ml_packages/file_processing.py', 'w') as f:\n",
    "    pass  # create the file without content"
   ]
  },
  {
   "cell_type": "code",
   "execution_count": null,
   "id": "2f6960c3-650e-451e-bc08-e8eb8f6eb213",
   "metadata": {},
   "outputs": [],
   "source": []
  }
 ],
 "metadata": {
  "kernelspec": {
   "display_name": "Python 3 (ipykernel)",
   "language": "python",
   "name": "python3"
  },
  "language_info": {
   "codemirror_mode": {
    "name": "ipython",
    "version": 3
   },
   "file_extension": ".py",
   "mimetype": "text/x-python",
   "name": "python",
   "nbconvert_exporter": "python",
   "pygments_lexer": "ipython3",
   "version": "3.12.4"
  }
 },
 "nbformat": 4,
 "nbformat_minor": 5
}
